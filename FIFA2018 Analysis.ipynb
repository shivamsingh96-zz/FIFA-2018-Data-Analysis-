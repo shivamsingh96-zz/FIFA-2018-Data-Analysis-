{
 "cells": [
  {
   "cell_type": "markdown",
   "metadata": {
    "id": "cyA2B5mUTeZm"
   },
   "source": [
    "## Importing Libraries"
   ]
  },
  {
   "cell_type": "code",
   "execution_count": 1,
   "metadata": {
    "colab": {
     "base_uri": "https://localhost:8080/"
    },
    "id": "WCj_9gyhToZa",
    "outputId": "f1bb81aa-a7a0-4779-fb7e-9db39ae5e325"
   },
   "outputs": [
    {
     "name": "stdout",
     "output_type": "stream",
     "text": [
      "Mounted at /content/drive\n"
     ]
    }
   ],
   "source": [
    "from google.colab import drive\n",
    "drive.mount('/content/drive')"
   ]
  },
  {
   "cell_type": "code",
   "execution_count": 2,
   "metadata": {
    "id": "oWIDUqeSTeZs"
   },
   "outputs": [],
   "source": [
    "import pandas as pd \n",
    "import numpy as np\n",
    "import matplotlib.pyplot as plt\n",
    "import seaborn as sns"
   ]
  },
  {
   "cell_type": "markdown",
   "metadata": {
    "id": "tovq6ETBTeZs"
   },
   "source": [
    "## Reading the Excel Data"
   ]
  },
  {
   "cell_type": "code",
   "execution_count": 3,
   "metadata": {
    "id": "Nx7XXgeVTeZt"
   },
   "outputs": [],
   "source": [
    "df = pd.read_excel('/content/drive/MyDrive/6119963_2_fifa.xlsx')"
   ]
  },
  {
   "cell_type": "code",
   "execution_count": 4,
   "metadata": {
    "id": "w9dMullRTeZt"
   },
   "outputs": [],
   "source": [
    "data = pd.read_excel('/content/drive/MyDrive/6119963_3_data-dictionary--1-.xlsx')"
   ]
  },
  {
   "cell_type": "code",
   "execution_count": 6,
   "metadata": {
    "colab": {
     "base_uri": "https://localhost:8080/",
     "height": 391
    },
    "id": "JCCwki6DTeZt",
    "outputId": "cb716ec1-a43b-4f1a-aef6-53295195758e"
   },
   "outputs": [
    {
     "data": {
      "text/html": [
       "<div>\n",
       "<style scoped>\n",
       "    .dataframe tbody tr th:only-of-type {\n",
       "        vertical-align: middle;\n",
       "    }\n",
       "\n",
       "    .dataframe tbody tr th {\n",
       "        vertical-align: top;\n",
       "    }\n",
       "\n",
       "    .dataframe thead th {\n",
       "        text-align: right;\n",
       "    }\n",
       "</style>\n",
       "<table border=\"1\" class=\"dataframe\">\n",
       "  <thead>\n",
       "    <tr style=\"text-align: right;\">\n",
       "      <th></th>\n",
       "      <th>Unnamed: 0</th>\n",
       "      <th>Name</th>\n",
       "      <th>Age</th>\n",
       "      <th>Photo</th>\n",
       "      <th>Nationality</th>\n",
       "      <th>Flag</th>\n",
       "      <th>Overall</th>\n",
       "      <th>Potential</th>\n",
       "      <th>Club</th>\n",
       "      <th>Club Logo</th>\n",
       "      <th>Value</th>\n",
       "      <th>Wage</th>\n",
       "      <th>Special</th>\n",
       "      <th>Acceleration</th>\n",
       "      <th>Aggression</th>\n",
       "      <th>Agility</th>\n",
       "      <th>Balance</th>\n",
       "      <th>Ball control</th>\n",
       "      <th>Composure</th>\n",
       "      <th>Crossing</th>\n",
       "      <th>Curve</th>\n",
       "      <th>Dribbling</th>\n",
       "      <th>Finishing</th>\n",
       "      <th>Free kick accuracy</th>\n",
       "      <th>GK diving</th>\n",
       "      <th>GK handling</th>\n",
       "      <th>GK kicking</th>\n",
       "      <th>GK positioning</th>\n",
       "      <th>GK reflexes</th>\n",
       "      <th>Heading accuracy</th>\n",
       "      <th>Interceptions</th>\n",
       "      <th>Jumping</th>\n",
       "      <th>Long passing</th>\n",
       "      <th>Long shots</th>\n",
       "      <th>Marking</th>\n",
       "      <th>Penalties</th>\n",
       "      <th>Positioning</th>\n",
       "      <th>Reactions</th>\n",
       "      <th>Short passing</th>\n",
       "      <th>Shot power</th>\n",
       "      <th>Sliding tackle</th>\n",
       "      <th>Sprint speed</th>\n",
       "      <th>Stamina</th>\n",
       "      <th>Standing tackle</th>\n",
       "      <th>Strength</th>\n",
       "      <th>Vision</th>\n",
       "      <th>Volleys</th>\n",
       "      <th>CAM</th>\n",
       "      <th>CB</th>\n",
       "      <th>CDM</th>\n",
       "      <th>CF</th>\n",
       "      <th>CM</th>\n",
       "      <th>LAM</th>\n",
       "      <th>LB</th>\n",
       "      <th>LCB</th>\n",
       "      <th>LCM</th>\n",
       "      <th>LDM</th>\n",
       "      <th>LF</th>\n",
       "      <th>LM</th>\n",
       "      <th>LS</th>\n",
       "      <th>LW</th>\n",
       "      <th>LWB</th>\n",
       "      <th>Preferred Positions</th>\n",
       "      <th>RAM</th>\n",
       "      <th>RB</th>\n",
       "      <th>RCB</th>\n",
       "      <th>RCM</th>\n",
       "      <th>RDM</th>\n",
       "      <th>RF</th>\n",
       "      <th>RM</th>\n",
       "      <th>RS</th>\n",
       "      <th>RW</th>\n",
       "      <th>RWB</th>\n",
       "      <th>ST</th>\n",
       "    </tr>\n",
       "  </thead>\n",
       "  <tbody>\n",
       "    <tr>\n",
       "      <th>0</th>\n",
       "      <td>0</td>\n",
       "      <td>Cristiano Ronaldo</td>\n",
       "      <td>32</td>\n",
       "      <td>https://cdn.sofifa.org/48/18/players/20801.png</td>\n",
       "      <td>Portugal</td>\n",
       "      <td>https://cdn.sofifa.org/flags/38.png</td>\n",
       "      <td>94</td>\n",
       "      <td>94</td>\n",
       "      <td>Real Madrid CF</td>\n",
       "      <td>https://cdn.sofifa.org/24/18/teams/243.png</td>\n",
       "      <td>95.5M</td>\n",
       "      <td>565K</td>\n",
       "      <td>2228</td>\n",
       "      <td>89</td>\n",
       "      <td>63</td>\n",
       "      <td>89</td>\n",
       "      <td>63</td>\n",
       "      <td>93</td>\n",
       "      <td>95</td>\n",
       "      <td>85</td>\n",
       "      <td>81</td>\n",
       "      <td>91</td>\n",
       "      <td>94</td>\n",
       "      <td>76</td>\n",
       "      <td>7</td>\n",
       "      <td>11</td>\n",
       "      <td>15</td>\n",
       "      <td>14</td>\n",
       "      <td>11</td>\n",
       "      <td>88</td>\n",
       "      <td>29</td>\n",
       "      <td>95</td>\n",
       "      <td>77</td>\n",
       "      <td>92</td>\n",
       "      <td>22</td>\n",
       "      <td>85</td>\n",
       "      <td>95</td>\n",
       "      <td>96</td>\n",
       "      <td>83</td>\n",
       "      <td>94</td>\n",
       "      <td>23</td>\n",
       "      <td>91</td>\n",
       "      <td>92</td>\n",
       "      <td>31</td>\n",
       "      <td>80</td>\n",
       "      <td>85</td>\n",
       "      <td>88</td>\n",
       "      <td>89.0</td>\n",
       "      <td>53.0</td>\n",
       "      <td>62.0</td>\n",
       "      <td>91.0</td>\n",
       "      <td>82.0</td>\n",
       "      <td>89.0</td>\n",
       "      <td>61.0</td>\n",
       "      <td>53.0</td>\n",
       "      <td>82.0</td>\n",
       "      <td>62.0</td>\n",
       "      <td>91.0</td>\n",
       "      <td>89.0</td>\n",
       "      <td>92.0</td>\n",
       "      <td>91.0</td>\n",
       "      <td>66.0</td>\n",
       "      <td>ST LW</td>\n",
       "      <td>89.0</td>\n",
       "      <td>61.0</td>\n",
       "      <td>53.0</td>\n",
       "      <td>82.0</td>\n",
       "      <td>62.0</td>\n",
       "      <td>91.0</td>\n",
       "      <td>89.0</td>\n",
       "      <td>92.0</td>\n",
       "      <td>91.0</td>\n",
       "      <td>66.0</td>\n",
       "      <td>92.0</td>\n",
       "    </tr>\n",
       "    <tr>\n",
       "      <th>1</th>\n",
       "      <td>1</td>\n",
       "      <td>L. Messi</td>\n",
       "      <td>30</td>\n",
       "      <td>https://cdn.sofifa.org/48/18/players/158023.png</td>\n",
       "      <td>Argentina</td>\n",
       "      <td>https://cdn.sofifa.org/flags/52.png</td>\n",
       "      <td>93</td>\n",
       "      <td>93</td>\n",
       "      <td>FC Barcelona</td>\n",
       "      <td>https://cdn.sofifa.org/24/18/teams/241.png</td>\n",
       "      <td>105M</td>\n",
       "      <td>565K</td>\n",
       "      <td>2154</td>\n",
       "      <td>92</td>\n",
       "      <td>48</td>\n",
       "      <td>90</td>\n",
       "      <td>95</td>\n",
       "      <td>95</td>\n",
       "      <td>96</td>\n",
       "      <td>77</td>\n",
       "      <td>89</td>\n",
       "      <td>97</td>\n",
       "      <td>95</td>\n",
       "      <td>90</td>\n",
       "      <td>6</td>\n",
       "      <td>11</td>\n",
       "      <td>15</td>\n",
       "      <td>14</td>\n",
       "      <td>8</td>\n",
       "      <td>71</td>\n",
       "      <td>22</td>\n",
       "      <td>68</td>\n",
       "      <td>87</td>\n",
       "      <td>88</td>\n",
       "      <td>13</td>\n",
       "      <td>74</td>\n",
       "      <td>93</td>\n",
       "      <td>95</td>\n",
       "      <td>88</td>\n",
       "      <td>85</td>\n",
       "      <td>26</td>\n",
       "      <td>87</td>\n",
       "      <td>73</td>\n",
       "      <td>28</td>\n",
       "      <td>59</td>\n",
       "      <td>90</td>\n",
       "      <td>85</td>\n",
       "      <td>92.0</td>\n",
       "      <td>45.0</td>\n",
       "      <td>59.0</td>\n",
       "      <td>92.0</td>\n",
       "      <td>84.0</td>\n",
       "      <td>92.0</td>\n",
       "      <td>57.0</td>\n",
       "      <td>45.0</td>\n",
       "      <td>84.0</td>\n",
       "      <td>59.0</td>\n",
       "      <td>92.0</td>\n",
       "      <td>90.0</td>\n",
       "      <td>88.0</td>\n",
       "      <td>91.0</td>\n",
       "      <td>62.0</td>\n",
       "      <td>RW</td>\n",
       "      <td>92.0</td>\n",
       "      <td>57.0</td>\n",
       "      <td>45.0</td>\n",
       "      <td>84.0</td>\n",
       "      <td>59.0</td>\n",
       "      <td>92.0</td>\n",
       "      <td>90.0</td>\n",
       "      <td>88.0</td>\n",
       "      <td>91.0</td>\n",
       "      <td>62.0</td>\n",
       "      <td>88.0</td>\n",
       "    </tr>\n",
       "    <tr>\n",
       "      <th>2</th>\n",
       "      <td>2</td>\n",
       "      <td>Neymar</td>\n",
       "      <td>25</td>\n",
       "      <td>https://cdn.sofifa.org/48/18/players/190871.png</td>\n",
       "      <td>Brazil</td>\n",
       "      <td>https://cdn.sofifa.org/flags/54.png</td>\n",
       "      <td>92</td>\n",
       "      <td>94</td>\n",
       "      <td>Paris Saint-Germain</td>\n",
       "      <td>https://cdn.sofifa.org/24/18/teams/73.png</td>\n",
       "      <td>123M</td>\n",
       "      <td>280K</td>\n",
       "      <td>2100</td>\n",
       "      <td>94</td>\n",
       "      <td>56</td>\n",
       "      <td>96</td>\n",
       "      <td>82</td>\n",
       "      <td>95</td>\n",
       "      <td>92</td>\n",
       "      <td>75</td>\n",
       "      <td>81</td>\n",
       "      <td>96</td>\n",
       "      <td>89</td>\n",
       "      <td>84</td>\n",
       "      <td>9</td>\n",
       "      <td>9</td>\n",
       "      <td>15</td>\n",
       "      <td>15</td>\n",
       "      <td>11</td>\n",
       "      <td>62</td>\n",
       "      <td>36</td>\n",
       "      <td>61</td>\n",
       "      <td>75</td>\n",
       "      <td>77</td>\n",
       "      <td>21</td>\n",
       "      <td>81</td>\n",
       "      <td>90</td>\n",
       "      <td>88</td>\n",
       "      <td>81</td>\n",
       "      <td>80</td>\n",
       "      <td>33</td>\n",
       "      <td>90</td>\n",
       "      <td>78</td>\n",
       "      <td>24</td>\n",
       "      <td>53</td>\n",
       "      <td>80</td>\n",
       "      <td>83</td>\n",
       "      <td>88.0</td>\n",
       "      <td>46.0</td>\n",
       "      <td>59.0</td>\n",
       "      <td>88.0</td>\n",
       "      <td>79.0</td>\n",
       "      <td>88.0</td>\n",
       "      <td>59.0</td>\n",
       "      <td>46.0</td>\n",
       "      <td>79.0</td>\n",
       "      <td>59.0</td>\n",
       "      <td>88.0</td>\n",
       "      <td>87.0</td>\n",
       "      <td>84.0</td>\n",
       "      <td>89.0</td>\n",
       "      <td>64.0</td>\n",
       "      <td>LW</td>\n",
       "      <td>88.0</td>\n",
       "      <td>59.0</td>\n",
       "      <td>46.0</td>\n",
       "      <td>79.0</td>\n",
       "      <td>59.0</td>\n",
       "      <td>88.0</td>\n",
       "      <td>87.0</td>\n",
       "      <td>84.0</td>\n",
       "      <td>89.0</td>\n",
       "      <td>64.0</td>\n",
       "      <td>84.0</td>\n",
       "    </tr>\n",
       "    <tr>\n",
       "      <th>3</th>\n",
       "      <td>3</td>\n",
       "      <td>L. SuÃ¡rez</td>\n",
       "      <td>30</td>\n",
       "      <td>https://cdn.sofifa.org/48/18/players/176580.png</td>\n",
       "      <td>Uruguay</td>\n",
       "      <td>https://cdn.sofifa.org/flags/60.png</td>\n",
       "      <td>92</td>\n",
       "      <td>92</td>\n",
       "      <td>FC Barcelona</td>\n",
       "      <td>https://cdn.sofifa.org/24/18/teams/241.png</td>\n",
       "      <td>97M</td>\n",
       "      <td>510K</td>\n",
       "      <td>2291</td>\n",
       "      <td>88</td>\n",
       "      <td>78</td>\n",
       "      <td>86</td>\n",
       "      <td>60</td>\n",
       "      <td>91</td>\n",
       "      <td>83</td>\n",
       "      <td>77</td>\n",
       "      <td>86</td>\n",
       "      <td>86</td>\n",
       "      <td>94</td>\n",
       "      <td>84</td>\n",
       "      <td>27</td>\n",
       "      <td>25</td>\n",
       "      <td>31</td>\n",
       "      <td>33</td>\n",
       "      <td>37</td>\n",
       "      <td>77</td>\n",
       "      <td>41</td>\n",
       "      <td>69</td>\n",
       "      <td>64</td>\n",
       "      <td>86</td>\n",
       "      <td>30</td>\n",
       "      <td>85</td>\n",
       "      <td>92</td>\n",
       "      <td>93</td>\n",
       "      <td>83</td>\n",
       "      <td>87</td>\n",
       "      <td>38</td>\n",
       "      <td>77</td>\n",
       "      <td>89</td>\n",
       "      <td>45</td>\n",
       "      <td>80</td>\n",
       "      <td>84</td>\n",
       "      <td>88</td>\n",
       "      <td>87.0</td>\n",
       "      <td>58.0</td>\n",
       "      <td>65.0</td>\n",
       "      <td>88.0</td>\n",
       "      <td>80.0</td>\n",
       "      <td>87.0</td>\n",
       "      <td>64.0</td>\n",
       "      <td>58.0</td>\n",
       "      <td>80.0</td>\n",
       "      <td>65.0</td>\n",
       "      <td>88.0</td>\n",
       "      <td>85.0</td>\n",
       "      <td>88.0</td>\n",
       "      <td>87.0</td>\n",
       "      <td>68.0</td>\n",
       "      <td>ST</td>\n",
       "      <td>87.0</td>\n",
       "      <td>64.0</td>\n",
       "      <td>58.0</td>\n",
       "      <td>80.0</td>\n",
       "      <td>65.0</td>\n",
       "      <td>88.0</td>\n",
       "      <td>85.0</td>\n",
       "      <td>88.0</td>\n",
       "      <td>87.0</td>\n",
       "      <td>68.0</td>\n",
       "      <td>88.0</td>\n",
       "    </tr>\n",
       "    <tr>\n",
       "      <th>4</th>\n",
       "      <td>4</td>\n",
       "      <td>M. Neuer</td>\n",
       "      <td>31</td>\n",
       "      <td>https://cdn.sofifa.org/48/18/players/167495.png</td>\n",
       "      <td>Germany</td>\n",
       "      <td>https://cdn.sofifa.org/flags/21.png</td>\n",
       "      <td>92</td>\n",
       "      <td>92</td>\n",
       "      <td>FC Bayern Munich</td>\n",
       "      <td>https://cdn.sofifa.org/24/18/teams/21.png</td>\n",
       "      <td>61M</td>\n",
       "      <td>230K</td>\n",
       "      <td>1493</td>\n",
       "      <td>58</td>\n",
       "      <td>29</td>\n",
       "      <td>52</td>\n",
       "      <td>35</td>\n",
       "      <td>48</td>\n",
       "      <td>70</td>\n",
       "      <td>15</td>\n",
       "      <td>14</td>\n",
       "      <td>30</td>\n",
       "      <td>13</td>\n",
       "      <td>11</td>\n",
       "      <td>91</td>\n",
       "      <td>90</td>\n",
       "      <td>95</td>\n",
       "      <td>91</td>\n",
       "      <td>89</td>\n",
       "      <td>25</td>\n",
       "      <td>30</td>\n",
       "      <td>78</td>\n",
       "      <td>59</td>\n",
       "      <td>16</td>\n",
       "      <td>10</td>\n",
       "      <td>47</td>\n",
       "      <td>12</td>\n",
       "      <td>85</td>\n",
       "      <td>55</td>\n",
       "      <td>25</td>\n",
       "      <td>11</td>\n",
       "      <td>61</td>\n",
       "      <td>44</td>\n",
       "      <td>10</td>\n",
       "      <td>83</td>\n",
       "      <td>70</td>\n",
       "      <td>11</td>\n",
       "      <td>NaN</td>\n",
       "      <td>NaN</td>\n",
       "      <td>NaN</td>\n",
       "      <td>NaN</td>\n",
       "      <td>NaN</td>\n",
       "      <td>NaN</td>\n",
       "      <td>NaN</td>\n",
       "      <td>NaN</td>\n",
       "      <td>NaN</td>\n",
       "      <td>NaN</td>\n",
       "      <td>NaN</td>\n",
       "      <td>NaN</td>\n",
       "      <td>NaN</td>\n",
       "      <td>NaN</td>\n",
       "      <td>NaN</td>\n",
       "      <td>GK</td>\n",
       "      <td>NaN</td>\n",
       "      <td>NaN</td>\n",
       "      <td>NaN</td>\n",
       "      <td>NaN</td>\n",
       "      <td>NaN</td>\n",
       "      <td>NaN</td>\n",
       "      <td>NaN</td>\n",
       "      <td>NaN</td>\n",
       "      <td>NaN</td>\n",
       "      <td>NaN</td>\n",
       "      <td>NaN</td>\n",
       "    </tr>\n",
       "  </tbody>\n",
       "</table>\n",
       "</div>"
      ],
      "text/plain": [
       "   Unnamed: 0               Name  Age  ...    RW   RWB    ST\n",
       "0           0  Cristiano Ronaldo   32  ...  91.0  66.0  92.0\n",
       "1           1           L. Messi   30  ...  91.0  62.0  88.0\n",
       "2           2             Neymar   25  ...  89.0  64.0  84.0\n",
       "3           3         L. SuÃ¡rez   30  ...  87.0  68.0  88.0\n",
       "4           4           M. Neuer   31  ...   NaN   NaN   NaN\n",
       "\n",
       "[5 rows x 74 columns]"
      ]
     },
     "execution_count": 6,
     "metadata": {
      "tags": []
     },
     "output_type": "execute_result"
    }
   ],
   "source": [
    "df.head()"
   ]
  },
  {
   "cell_type": "code",
   "execution_count": 7,
   "metadata": {
    "colab": {
     "base_uri": "https://localhost:8080/",
     "height": 198
    },
    "id": "BiJOnsMkTeZv",
    "outputId": "429f4387-269b-4c54-e479-f2c890869eb9"
   },
   "outputs": [
    {
     "data": {
      "text/html": [
       "<div>\n",
       "<style scoped>\n",
       "    .dataframe tbody tr th:only-of-type {\n",
       "        vertical-align: middle;\n",
       "    }\n",
       "\n",
       "    .dataframe tbody tr th {\n",
       "        vertical-align: top;\n",
       "    }\n",
       "\n",
       "    .dataframe thead th {\n",
       "        text-align: right;\n",
       "    }\n",
       "</style>\n",
       "<table border=\"1\" class=\"dataframe\">\n",
       "  <thead>\n",
       "    <tr style=\"text-align: right;\">\n",
       "      <th></th>\n",
       "      <th>Feature</th>\n",
       "      <th>Explanation</th>\n",
       "    </tr>\n",
       "  </thead>\n",
       "  <tbody>\n",
       "    <tr>\n",
       "      <th>0</th>\n",
       "      <td>player index number</td>\n",
       "      <td>NaN</td>\n",
       "    </tr>\n",
       "    <tr>\n",
       "      <th>1</th>\n",
       "      <td>Name</td>\n",
       "      <td>name of a player</td>\n",
       "    </tr>\n",
       "    <tr>\n",
       "      <th>2</th>\n",
       "      <td>Age</td>\n",
       "      <td>age of a player</td>\n",
       "    </tr>\n",
       "    <tr>\n",
       "      <th>3</th>\n",
       "      <td>Photo</td>\n",
       "      <td>picture of player</td>\n",
       "    </tr>\n",
       "    <tr>\n",
       "      <th>4</th>\n",
       "      <td>Nationality</td>\n",
       "      <td>player nationality</td>\n",
       "    </tr>\n",
       "  </tbody>\n",
       "</table>\n",
       "</div>"
      ],
      "text/plain": [
       "               Feature         Explanation\n",
       "0  player index number                 NaN\n",
       "1                 Name    name of a player\n",
       "2                  Age     age of a player\n",
       "3                Photo   picture of player\n",
       "4          Nationality  player nationality"
      ]
     },
     "execution_count": 7,
     "metadata": {
      "tags": []
     },
     "output_type": "execute_result"
    }
   ],
   "source": [
    "data.head()"
   ]
  },
  {
   "cell_type": "markdown",
   "metadata": {
    "id": "kckd_sxbTeZv"
   },
   "source": [
    "### Shape of the Data"
   ]
  },
  {
   "cell_type": "code",
   "execution_count": 8,
   "metadata": {
    "colab": {
     "base_uri": "https://localhost:8080/"
    },
    "id": "-VKymVQDTeZv",
    "outputId": "03bb7363-34e3-4fd6-8f65-eb57489731de"
   },
   "outputs": [
    {
     "data": {
      "text/plain": [
       "(17981, 74)"
      ]
     },
     "execution_count": 8,
     "metadata": {
      "tags": []
     },
     "output_type": "execute_result"
    }
   ],
   "source": [
    "df.shape"
   ]
  },
  {
   "cell_type": "markdown",
   "metadata": {
    "id": "b9YJyrBwTeZw"
   },
   "source": [
    "## Columns in the Data"
   ]
  },
  {
   "cell_type": "code",
   "execution_count": 9,
   "metadata": {
    "colab": {
     "base_uri": "https://localhost:8080/"
    },
    "id": "AZ22KkOfTeZw",
    "outputId": "dd4fec19-73f8-4b37-8a29-f6dfdc530b7f"
   },
   "outputs": [
    {
     "data": {
      "text/plain": [
       "Index(['Unnamed: 0', 'Name', 'Age', 'Photo', 'Nationality', 'Flag', 'Overall',\n",
       "       'Potential', 'Club', 'Club Logo', 'Value', 'Wage', 'Special',\n",
       "       'Acceleration', 'Aggression', 'Agility', 'Balance', 'Ball control',\n",
       "       'Composure', 'Crossing', 'Curve', 'Dribbling', 'Finishing',\n",
       "       'Free kick accuracy', 'GK diving', 'GK handling', 'GK kicking',\n",
       "       'GK positioning', 'GK reflexes', 'Heading accuracy', 'Interceptions',\n",
       "       'Jumping', 'Long passing', 'Long shots', 'Marking', 'Penalties',\n",
       "       'Positioning', 'Reactions', 'Short passing', 'Shot power',\n",
       "       'Sliding tackle', 'Sprint speed', 'Stamina', 'Standing tackle',\n",
       "       'Strength', 'Vision', 'Volleys', 'CAM', 'CB', 'CDM', 'CF', 'CM', 'LAM',\n",
       "       'LB', 'LCB', 'LCM', 'LDM', 'LF', 'LM', 'LS', 'LW', 'LWB',\n",
       "       'Preferred Positions', 'RAM', 'RB', 'RCB', 'RCM', 'RDM', 'RF', 'RM',\n",
       "       'RS', 'RW', 'RWB', 'ST'],\n",
       "      dtype='object')"
      ]
     },
     "execution_count": 9,
     "metadata": {
      "tags": []
     },
     "output_type": "execute_result"
    }
   ],
   "source": [
    "df.columns"
   ]
  },
  {
   "cell_type": "markdown",
   "metadata": {
    "id": "ryK14ekXTeZx"
   },
   "source": [
    "### Picking only interested columns"
   ]
  },
  {
   "cell_type": "code",
   "execution_count": 10,
   "metadata": {
    "id": "Hry-lBnkTeZx"
   },
   "outputs": [],
   "source": [
    "interested_columns =['Name','Age','Nationality','Overall','Potential','Club','Value','Wage','Preferred Positions','ST','RW','LW']"
   ]
  },
  {
   "cell_type": "markdown",
   "metadata": {
    "id": "_TiAi7p9TeZx"
   },
   "source": [
    "### DataFrame of interested columns"
   ]
  },
  {
   "cell_type": "code",
   "execution_count": 11,
   "metadata": {
    "id": "f4z-j8JMTeZx"
   },
   "outputs": [],
   "source": [
    "FIFA18 = pd.DataFrame(df,columns=interested_columns)"
   ]
  },
  {
   "cell_type": "code",
   "execution_count": 12,
   "metadata": {
    "colab": {
     "base_uri": "https://localhost:8080/",
     "height": 198
    },
    "id": "Sf-kHl9nTeZx",
    "outputId": "08d44a17-2826-487b-f962-6dcb9bfa4164"
   },
   "outputs": [
    {
     "data": {
      "text/html": [
       "<div>\n",
       "<style scoped>\n",
       "    .dataframe tbody tr th:only-of-type {\n",
       "        vertical-align: middle;\n",
       "    }\n",
       "\n",
       "    .dataframe tbody tr th {\n",
       "        vertical-align: top;\n",
       "    }\n",
       "\n",
       "    .dataframe thead th {\n",
       "        text-align: right;\n",
       "    }\n",
       "</style>\n",
       "<table border=\"1\" class=\"dataframe\">\n",
       "  <thead>\n",
       "    <tr style=\"text-align: right;\">\n",
       "      <th></th>\n",
       "      <th>Name</th>\n",
       "      <th>Age</th>\n",
       "      <th>Nationality</th>\n",
       "      <th>Overall</th>\n",
       "      <th>Potential</th>\n",
       "      <th>Club</th>\n",
       "      <th>Value</th>\n",
       "      <th>Wage</th>\n",
       "      <th>Preferred Positions</th>\n",
       "      <th>ST</th>\n",
       "      <th>RW</th>\n",
       "      <th>LW</th>\n",
       "    </tr>\n",
       "  </thead>\n",
       "  <tbody>\n",
       "    <tr>\n",
       "      <th>0</th>\n",
       "      <td>Cristiano Ronaldo</td>\n",
       "      <td>32</td>\n",
       "      <td>Portugal</td>\n",
       "      <td>94</td>\n",
       "      <td>94</td>\n",
       "      <td>Real Madrid CF</td>\n",
       "      <td>95.5M</td>\n",
       "      <td>565K</td>\n",
       "      <td>ST LW</td>\n",
       "      <td>92.0</td>\n",
       "      <td>91.0</td>\n",
       "      <td>91.0</td>\n",
       "    </tr>\n",
       "    <tr>\n",
       "      <th>1</th>\n",
       "      <td>L. Messi</td>\n",
       "      <td>30</td>\n",
       "      <td>Argentina</td>\n",
       "      <td>93</td>\n",
       "      <td>93</td>\n",
       "      <td>FC Barcelona</td>\n",
       "      <td>105M</td>\n",
       "      <td>565K</td>\n",
       "      <td>RW</td>\n",
       "      <td>88.0</td>\n",
       "      <td>91.0</td>\n",
       "      <td>91.0</td>\n",
       "    </tr>\n",
       "    <tr>\n",
       "      <th>2</th>\n",
       "      <td>Neymar</td>\n",
       "      <td>25</td>\n",
       "      <td>Brazil</td>\n",
       "      <td>92</td>\n",
       "      <td>94</td>\n",
       "      <td>Paris Saint-Germain</td>\n",
       "      <td>123M</td>\n",
       "      <td>280K</td>\n",
       "      <td>LW</td>\n",
       "      <td>84.0</td>\n",
       "      <td>89.0</td>\n",
       "      <td>89.0</td>\n",
       "    </tr>\n",
       "    <tr>\n",
       "      <th>3</th>\n",
       "      <td>L. SuÃ¡rez</td>\n",
       "      <td>30</td>\n",
       "      <td>Uruguay</td>\n",
       "      <td>92</td>\n",
       "      <td>92</td>\n",
       "      <td>FC Barcelona</td>\n",
       "      <td>97M</td>\n",
       "      <td>510K</td>\n",
       "      <td>ST</td>\n",
       "      <td>88.0</td>\n",
       "      <td>87.0</td>\n",
       "      <td>87.0</td>\n",
       "    </tr>\n",
       "    <tr>\n",
       "      <th>4</th>\n",
       "      <td>M. Neuer</td>\n",
       "      <td>31</td>\n",
       "      <td>Germany</td>\n",
       "      <td>92</td>\n",
       "      <td>92</td>\n",
       "      <td>FC Bayern Munich</td>\n",
       "      <td>61M</td>\n",
       "      <td>230K</td>\n",
       "      <td>GK</td>\n",
       "      <td>NaN</td>\n",
       "      <td>NaN</td>\n",
       "      <td>NaN</td>\n",
       "    </tr>\n",
       "  </tbody>\n",
       "</table>\n",
       "</div>"
      ],
      "text/plain": [
       "                Name  Age Nationality  ...    ST    RW    LW\n",
       "0  Cristiano Ronaldo   32    Portugal  ...  92.0  91.0  91.0\n",
       "1           L. Messi   30   Argentina  ...  88.0  91.0  91.0\n",
       "2             Neymar   25      Brazil  ...  84.0  89.0  89.0\n",
       "3         L. SuÃ¡rez   30     Uruguay  ...  88.0  87.0  87.0\n",
       "4           M. Neuer   31     Germany  ...   NaN   NaN   NaN\n",
       "\n",
       "[5 rows x 12 columns]"
      ]
     },
     "execution_count": 12,
     "metadata": {
      "tags": []
     },
     "output_type": "execute_result"
    }
   ],
   "source": [
    "FIFA18.head() ## showing 5 rows in the fifa 2018 data"
   ]
  },
  {
   "cell_type": "code",
   "execution_count": 13,
   "metadata": {
    "colab": {
     "base_uri": "https://localhost:8080/"
    },
    "id": "KtY9w7RMTeZy",
    "outputId": "7e128883-93ce-4391-e727-77b445291345"
   },
   "outputs": [
    {
     "data": {
      "text/plain": [
       "Name                    object\n",
       "Age                      int64\n",
       "Nationality             object\n",
       "Overall                  int64\n",
       "Potential                int64\n",
       "Club                    object\n",
       "Value                   object\n",
       "Wage                    object\n",
       "Preferred Positions     object\n",
       "ST                     float64\n",
       "RW                     float64\n",
       "LW                     float64\n",
       "dtype: object"
      ]
     },
     "execution_count": 13,
     "metadata": {
      "tags": []
     },
     "output_type": "execute_result"
    }
   ],
   "source": [
    "FIFA18.dtypes   ##Datatype of all columns in fifa data"
   ]
  },
  {
   "cell_type": "markdown",
   "metadata": {
    "id": "h2EUDusETeZy"
   },
   "source": [
    "###  rank ordered list of top 10 countries with most players"
   ]
  },
  {
   "cell_type": "code",
   "execution_count": 14,
   "metadata": {
    "colab": {
     "base_uri": "https://localhost:8080/"
    },
    "id": "uT3WtBTkTeZy",
    "outputId": "f248b003-f6c9-4674-d5c5-f08e12fc5860"
   },
   "outputs": [
    {
     "data": {
      "text/plain": [
       "England        1630\n",
       "Germany        1140\n",
       "Spain          1019\n",
       "France          978\n",
       "Argentina       965\n",
       "Brazil          812\n",
       "Italy           799\n",
       "Colombia        592\n",
       "Japan           469\n",
       "Netherlands     429\n",
       "Name: Nationality, dtype: int64"
      ]
     },
     "execution_count": 14,
     "metadata": {
      "tags": []
     },
     "output_type": "execute_result"
    }
   ],
   "source": [
    "FIFA18[\"Nationality\"].value_counts().head(10)"
   ]
  },
  {
   "cell_type": "code",
   "execution_count": 15,
   "metadata": {
    "colab": {
     "base_uri": "https://localhost:8080/",
     "height": 458
    },
    "id": "CVqkzQlmTeZz",
    "outputId": "d858e45a-171a-449d-b74d-8c90826e97b8"
   },
   "outputs": [
    {
     "data": {
      "image/png": "[encoded data removed]",
      "text/plain": [
       "<Figure size 720x360 with 1 Axes>"
      ]
     },
     "metadata": {
      "needs_background": "light",
      "tags": []
     },
     "output_type": "display_data"
    }
   ],
   "source": [
    "plt.figure(figsize=(10,5))\n",
    "sns.countplot(x='Nationality',data=FIFA18,order=FIFA18.Nationality.value_counts().iloc[:10].index,palette=\"hls\")\n",
    "plt.title('Nationality countplot',fontsize=30, fontweight='bold', y=1.05,)\n",
    "plt.grid(zorder=0)\n",
    "\n",
    "N=10\n",
    "ind=np.arange(N)\n",
    "s=(FIFA18['Nationality'].value_counts().index)\n",
    "plt.xticks(ind,s,rotation='vertical', fontsize=15)\n",
    "plt.show()\n"
   ]
  },
  {
   "cell_type": "markdown",
   "metadata": {
    "id": "J9OZbA4TTeZz"
   },
   "source": [
    "#### Conclusion:\n",
    "1) we can see England have more players as compared other countries.<br>\n",
    "2) England, Germany, spain,France,Argentina top 5 countries have more players.\n"
   ]
  },
  {
   "cell_type": "markdown",
   "metadata": {
    "id": "EwSov_L_TeZz"
   },
   "source": [
    "### Age distribution of the Players"
   ]
  },
  {
   "cell_type": "code",
   "execution_count": 16,
   "metadata": {
    "colab": {
     "base_uri": "https://localhost:8080/",
     "height": 562
    },
    "id": "5bSKyoKYTeZ0",
    "outputId": "0343357b-25b8-42fc-9969-b939e0e37b2e"
   },
   "outputs": [
    {
     "data": {
      "image/png": "[encoded data removed]",
      "text/plain": [
       "<Figure size 1152x576 with 1 Axes>"
      ]
     },
     "metadata": {
      "needs_background": "light",
      "tags": []
     },
     "output_type": "display_data"
    }
   ],
   "source": [
    "plt.figure(figsize=(16,8))\n",
    "sns.set_style(\"whitegrid\")\n",
    "plt.title('Grouping players by Age', fontsize=30, fontweight='bold', y=1.05,)\n",
    "plt.xlabel('Number of players', fontsize=25)\n",
    "plt.ylabel('Players Age', fontsize=25)\n",
    "sns.countplot(x=\"Age\", data=FIFA18);\n",
    "plt.show()\n"
   ]
  },
  {
   "cell_type": "markdown",
   "metadata": {
    "id": "XxlHfbw3TeZ0"
   },
   "source": [
    "#### Age distribution of player’s who participated in FIFA 2018<br>\n",
    "1)As the above graph shows that most players are from 18 to 33 means: — most players are from 18 to 33. <br>\n",
    "2)In football, most players have come at the age of 18 and they retire at the age of 33. Here we can see that as well as player’s age is increasing there performance is increasing but after a certain time it started to decreasing so, here is some exception we can see that at the age of 33 compared to 32 player’s no. of age is increased. <br>\n",
    "3)In the age of 16 footballers started playing but after 44 they stop playing <br>\n",
    "4)<b><I> after 34 their performance started decreasing.</I></b>"
   ]
  },
  {
   "cell_type": "code",
   "execution_count": 17,
   "metadata": {
    "id": "xIJtJ_fdTeZ0"
   },
   "outputs": [],
   "source": [
    "FIFA18['Position'] = FIFA18['Preferred Positions'].str.split().str[0]"
   ]
  },
  {
   "cell_type": "code",
   "execution_count": 18,
   "metadata": {
    "id": "G8F8rkbCTeZ1"
   },
   "outputs": [],
   "source": [
    "def str2number(amount):\n",
    "    if type(amount) == int:\n",
    "        return amount\n",
    "    \n",
    "    if amount[-1] == 'M':\n",
    "        d = float(amount[:-1])\n",
    "        \n",
    "        return d*1000000\n",
    "    elif amount[-1] == 'K':\n",
    "        d = float(amount[:-1])\n",
    "        return d*1000\n",
    "    else:\n",
    "        d = float(amount[:])\n",
    "        return d\n",
    "    \n",
    "FIFA18['ValueNum'] = FIFA18['Value'].apply(lambda x: str2number(x))\n",
    "FIFA18['WageNum'] = FIFA18['Wage'].apply(lambda x: str2number(x))"
   ]
  },
  {
   "cell_type": "markdown",
   "metadata": {
    "id": "i6VikkUMTeZ1"
   },
   "source": [
    "### Scatterplot of the striker, the right-winger, or the left-winger"
   ]
  },
  {
   "cell_type": "code",
   "execution_count": 19,
   "metadata": {
    "colab": {
     "base_uri": "https://localhost:8080/",
     "height": 504
    },
    "id": "2H9wT0YeTeZ1",
    "outputId": "fc8a28ad-61d8-4716-fe6f-f3cca00b972b"
   },
   "outputs": [
    {
     "data": {
      "image/png": "[encoded data removed]",
      "text/plain": [
       "<Figure size 720x504 with 1 Axes>"
      ]
     },
     "metadata": {
      "tags": []
     },
     "output_type": "display_data"
    }
   ],
   "source": [
    "plt.figure(figsize=(10,7))\n",
    "# sns.set_style(\"whitegrid\")\n",
    "plt.title('Players who get paid the most', fontsize=30, fontweight='bold', y=1.05,)\n",
    "plt.xlabel('Value', fontsize=25)\n",
    "plt.ylabel('Overall', fontsize=25)\n",
    "sns.scatterplot(x='ValueNum', y='Overall', hue='Position', data=FIFA18.loc[FIFA18['Position'].isin(['ST', 'RW', 'LW'])])\n",
    "plt.show()"
   ]
  },
  {
   "cell_type": "markdown",
   "metadata": {
    "id": "z_NeoIbjTeZ2"
   },
   "source": [
    "#### Conclusion:\n",
    "1) We can see Left winger gets paid the most after that right winger then striker."
   ]
  },
  {
   "cell_type": "markdown",
   "metadata": {
    "id": "enClC0tWTeZ2"
   },
   "source": [
    "### Top 5 players for every preferred position in terms of overall as well as potential points"
   ]
  },
  {
   "cell_type": "code",
   "execution_count": 20,
   "metadata": {
    "id": "6A7SV8tfTeZ2"
   },
   "outputs": [],
   "source": [
    "sorted_players = FIFA18.sort_values([\"Overall\",'Potential'], ascending=False).head(20)"
   ]
  },
  {
   "cell_type": "code",
   "execution_count": 21,
   "metadata": {
    "id": "OoixAdlYTeZ3"
   },
   "outputs": [],
   "source": [
    "players = sorted_players[[\"Name\" ,\"Age\" ,\"Nationality\" ,\"Overall\" ,\"Potential\" ,\"Position\" ,\"WageNum\"]].values"
   ]
  },
  {
   "cell_type": "code",
   "execution_count": 22,
   "metadata": {
    "id": "p3orUnb7TeZ3"
   },
   "outputs": [],
   "source": [
    "players = pd.DataFrame(players,columns=[\"Name\" ,\"Age\" ,\"Nationality\" ,\"Overall\" ,\"Potential\",\"Position\" ,\"Wage\"])"
   ]
  },
  {
   "cell_type": "code",
   "execution_count": 23,
   "metadata": {
    "colab": {
     "base_uri": "https://localhost:8080/",
     "height": 198
    },
    "id": "bVRcVY4TTeZ3",
    "outputId": "3271ca17-c9eb-4b0e-be31-164516f61550"
   },
   "outputs": [
    {
     "data": {
      "text/html": [
       "<div>\n",
       "<style scoped>\n",
       "    .dataframe tbody tr th:only-of-type {\n",
       "        vertical-align: middle;\n",
       "    }\n",
       "\n",
       "    .dataframe tbody tr th {\n",
       "        vertical-align: top;\n",
       "    }\n",
       "\n",
       "    .dataframe thead th {\n",
       "        text-align: right;\n",
       "    }\n",
       "</style>\n",
       "<table border=\"1\" class=\"dataframe\">\n",
       "  <thead>\n",
       "    <tr style=\"text-align: right;\">\n",
       "      <th></th>\n",
       "      <th>Name</th>\n",
       "      <th>Age</th>\n",
       "      <th>Nationality</th>\n",
       "      <th>Overall</th>\n",
       "      <th>Potential</th>\n",
       "      <th>Position</th>\n",
       "      <th>Wage</th>\n",
       "    </tr>\n",
       "  </thead>\n",
       "  <tbody>\n",
       "    <tr>\n",
       "      <th>0</th>\n",
       "      <td>Cristiano Ronaldo</td>\n",
       "      <td>32</td>\n",
       "      <td>Portugal</td>\n",
       "      <td>94</td>\n",
       "      <td>94</td>\n",
       "      <td>ST</td>\n",
       "      <td>565000</td>\n",
       "    </tr>\n",
       "    <tr>\n",
       "      <th>1</th>\n",
       "      <td>L. Messi</td>\n",
       "      <td>30</td>\n",
       "      <td>Argentina</td>\n",
       "      <td>93</td>\n",
       "      <td>93</td>\n",
       "      <td>RW</td>\n",
       "      <td>565000</td>\n",
       "    </tr>\n",
       "    <tr>\n",
       "      <th>2</th>\n",
       "      <td>Neymar</td>\n",
       "      <td>25</td>\n",
       "      <td>Brazil</td>\n",
       "      <td>92</td>\n",
       "      <td>94</td>\n",
       "      <td>LW</td>\n",
       "      <td>280000</td>\n",
       "    </tr>\n",
       "    <tr>\n",
       "      <th>3</th>\n",
       "      <td>L. SuÃ¡rez</td>\n",
       "      <td>30</td>\n",
       "      <td>Uruguay</td>\n",
       "      <td>92</td>\n",
       "      <td>92</td>\n",
       "      <td>ST</td>\n",
       "      <td>510000</td>\n",
       "    </tr>\n",
       "    <tr>\n",
       "      <th>4</th>\n",
       "      <td>M. Neuer</td>\n",
       "      <td>31</td>\n",
       "      <td>Germany</td>\n",
       "      <td>92</td>\n",
       "      <td>92</td>\n",
       "      <td>GK</td>\n",
       "      <td>230000</td>\n",
       "    </tr>\n",
       "  </tbody>\n",
       "</table>\n",
       "</div>"
      ],
      "text/plain": [
       "                Name Age Nationality Overall Potential Position    Wage\n",
       "0  Cristiano Ronaldo  32    Portugal      94        94       ST  565000\n",
       "1           L. Messi  30   Argentina      93        93       RW  565000\n",
       "2             Neymar  25      Brazil      92        94       LW  280000\n",
       "3         L. SuÃ¡rez  30     Uruguay      92        92       ST  510000\n",
       "4           M. Neuer  31     Germany      92        92       GK  230000"
      ]
     },
     "execution_count": 23,
     "metadata": {
      "tags": []
     },
     "output_type": "execute_result"
    }
   ],
   "source": [
    "players.head(5)"
   ]
  },
  {
   "cell_type": "markdown",
   "metadata": {
    "id": "NqTizLQpTeZ3"
   },
   "source": [
    "###  which club have the maximum share of players from England?"
   ]
  },
  {
   "cell_type": "code",
   "execution_count": 24,
   "metadata": {
    "id": "dxvrQiMkTeZ4"
   },
   "outputs": [],
   "source": [
    "only_england = FIFA18[FIFA18['Nationality']=='England']"
   ]
  },
  {
   "cell_type": "code",
   "execution_count": 25,
   "metadata": {
    "colab": {
     "base_uri": "https://localhost:8080/",
     "height": 479
    },
    "id": "uE3rrgMQTeZ4",
    "outputId": "9ece0bd2-f2ca-48d3-9a28-71e4121ece0f"
   },
   "outputs": [
    {
     "data": {
      "image/png": "[encoded data removed]",
      "text/plain": [
       "<Figure size 720x360 with 1 Axes>"
      ]
     },
     "metadata": {
      "tags": []
     },
     "output_type": "display_data"
    }
   ],
   "source": [
    "# only_england['Club'].value_counts()\n",
    "plt.figure(figsize=(10,5))\n",
    "sns.countplot(x='Club',data=FIFA18,order=only_england.Club.value_counts().iloc[:5].index,palette=\"hls\")\n",
    "plt.title('maximum share of players from England',fontsize=19)\n",
    "plt.grid()\n",
    "\n",
    "N=5\n",
    "ind=np.arange(N)\n",
    "s=(only_england['Club'].value_counts().index)\n",
    "plt.xticks(ind,s,rotation='vertical',fontsize=15)\n",
    "plt.show()\n"
   ]
  },
  {
   "cell_type": "markdown",
   "metadata": {
    "id": "7uvlq-qZTeZ5"
   },
   "source": [
    "<B><I>Bolton Wanderers club(s)</I></B> have the maximum share of players from England"
   ]
  },
  {
   "cell_type": "markdown",
   "metadata": {
    "id": "8aoPr5_dTeZ5"
   },
   "source": [
    "### Which club(s) have the maximum share of players from Spain?"
   ]
  },
  {
   "cell_type": "code",
   "execution_count": 26,
   "metadata": {
    "id": "t0bCb3TBTeZ5"
   },
   "outputs": [],
   "source": [
    "only_Spain = FIFA18[FIFA18['Nationality']=='Spain']"
   ]
  },
  {
   "cell_type": "code",
   "execution_count": 27,
   "metadata": {
    "colab": {
     "base_uri": "https://localhost:8080/",
     "height": 516
    },
    "id": "-wBu8tWmTeZ5",
    "outputId": "4ad79844-0330-403a-c832-e8c42c24c592"
   },
   "outputs": [
    {
     "data": {
      "image/png": "[encoded data removed]",
      "text/plain": [
       "<Figure size 720x360 with 1 Axes>"
      ]
     },
     "metadata": {
      "tags": []
     },
     "output_type": "display_data"
    }
   ],
   "source": [
    "plt.figure(figsize=(10,5))\n",
    "sns.countplot(x='Club',data=only_Spain,order=only_Spain.Club.value_counts().iloc[:5].index,palette=\"hls\")\n",
    "plt.title('maximum share of players from Spain',fontsize=19)\n",
    "plt.grid()\n",
    "\n",
    "N=5\n",
    "ind=np.arange(N)\n",
    "s=(only_Spain['Club'].value_counts().index)\n",
    "plt.xticks(ind,s,rotation='vertical',fontsize=15)\n",
    "\n",
    "plt.show()"
   ]
  },
  {
   "cell_type": "markdown",
   "metadata": {
    "id": "K2QLPltkTeZ6"
   },
   "source": [
    "<b><I>CA Osasuna</I></b> have the maximum share of players from Spain"
   ]
  },
  {
   "cell_type": "markdown",
   "metadata": {
    "id": "5M1uehrHTeZ6"
   },
   "source": [
    "### Which club(s) have the maximum share of players from Germany?"
   ]
  },
  {
   "cell_type": "code",
   "execution_count": 28,
   "metadata": {
    "id": "n5sWuQhiTeZ6"
   },
   "outputs": [],
   "source": [
    "only_Germany = FIFA18[FIFA18['Nationality']=='Germany']"
   ]
  },
  {
   "cell_type": "code",
   "execution_count": 29,
   "metadata": {
    "colab": {
     "base_uri": "https://localhost:8080/",
     "height": 500
    },
    "id": "F7y4hen3TeZ6",
    "outputId": "dfa1279f-83f7-4bcc-e42c-16be1ad27c71"
   },
   "outputs": [
    {
     "data": {
      "image/png": "[encoded data removed]",
      "text/plain": [
       "<Figure size 720x360 with 1 Axes>"
      ]
     },
     "metadata": {
      "tags": []
     },
     "output_type": "display_data"
    }
   ],
   "source": [
    "plt.figure(figsize=(10,5))\n",
    "sns.countplot(x='Club',data=only_Germany,order=only_Germany.Club.value_counts().iloc[:5].index,palette=\"hls\")\n",
    "plt.title('maximum share of players from Germany',fontsize=19)\n",
    "plt.grid()\n",
    "\n",
    "N=5\n",
    "ind=np.arange(N)\n",
    "s=(only_Germany['Club'].value_counts().index)\n",
    "plt.xticks(ind,s,rotation='vertical',fontsize=15)\n",
    "plt.show()"
   ]
  },
  {
   "cell_type": "markdown",
   "metadata": {
    "id": "U05Ie-dZTeZ6"
   },
   "source": [
    "<b><I> Holstein Kiel </I> </b>  have the maximum share of players from Germany"
   ]
  },
  {
   "cell_type": "code",
   "execution_count": 30,
   "metadata": {
    "colab": {
     "base_uri": "https://localhost:8080/",
     "height": 407
    },
    "id": "HwHuT5JWTeZ7",
    "outputId": "10e0c3da-9e5e-4b27-dcc5-79850927eac5"
   },
   "outputs": [
    {
     "data": {
      "text/html": [
       "<div>\n",
       "<style scoped>\n",
       "    .dataframe tbody tr th:only-of-type {\n",
       "        vertical-align: middle;\n",
       "    }\n",
       "\n",
       "    .dataframe tbody tr th {\n",
       "        vertical-align: top;\n",
       "    }\n",
       "\n",
       "    .dataframe thead th {\n",
       "        text-align: right;\n",
       "    }\n",
       "</style>\n",
       "<table border=\"1\" class=\"dataframe\">\n",
       "  <thead>\n",
       "    <tr style=\"text-align: right;\">\n",
       "      <th></th>\n",
       "      <th>Name</th>\n",
       "      <th>Age</th>\n",
       "      <th>Nationality</th>\n",
       "      <th>Overall</th>\n",
       "      <th>Potential</th>\n",
       "      <th>Club</th>\n",
       "      <th>Value</th>\n",
       "      <th>Wage</th>\n",
       "      <th>Preferred Positions</th>\n",
       "      <th>ST</th>\n",
       "      <th>RW</th>\n",
       "      <th>LW</th>\n",
       "      <th>Position</th>\n",
       "      <th>ValueNum</th>\n",
       "      <th>WageNum</th>\n",
       "    </tr>\n",
       "  </thead>\n",
       "  <tbody>\n",
       "    <tr>\n",
       "      <th>0</th>\n",
       "      <td>Cristiano Ronaldo</td>\n",
       "      <td>32</td>\n",
       "      <td>Portugal</td>\n",
       "      <td>94</td>\n",
       "      <td>94</td>\n",
       "      <td>Real Madrid CF</td>\n",
       "      <td>95.5M</td>\n",
       "      <td>565K</td>\n",
       "      <td>ST LW</td>\n",
       "      <td>92.0</td>\n",
       "      <td>91.0</td>\n",
       "      <td>91.0</td>\n",
       "      <td>ST</td>\n",
       "      <td>95500000.0</td>\n",
       "      <td>565000.0</td>\n",
       "    </tr>\n",
       "    <tr>\n",
       "      <th>1</th>\n",
       "      <td>L. Messi</td>\n",
       "      <td>30</td>\n",
       "      <td>Argentina</td>\n",
       "      <td>93</td>\n",
       "      <td>93</td>\n",
       "      <td>FC Barcelona</td>\n",
       "      <td>105M</td>\n",
       "      <td>565K</td>\n",
       "      <td>RW</td>\n",
       "      <td>88.0</td>\n",
       "      <td>91.0</td>\n",
       "      <td>91.0</td>\n",
       "      <td>RW</td>\n",
       "      <td>105000000.0</td>\n",
       "      <td>565000.0</td>\n",
       "    </tr>\n",
       "    <tr>\n",
       "      <th>2</th>\n",
       "      <td>Neymar</td>\n",
       "      <td>25</td>\n",
       "      <td>Brazil</td>\n",
       "      <td>92</td>\n",
       "      <td>94</td>\n",
       "      <td>Paris Saint-Germain</td>\n",
       "      <td>123M</td>\n",
       "      <td>280K</td>\n",
       "      <td>LW</td>\n",
       "      <td>84.0</td>\n",
       "      <td>89.0</td>\n",
       "      <td>89.0</td>\n",
       "      <td>LW</td>\n",
       "      <td>123000000.0</td>\n",
       "      <td>280000.0</td>\n",
       "    </tr>\n",
       "    <tr>\n",
       "      <th>3</th>\n",
       "      <td>L. SuÃ¡rez</td>\n",
       "      <td>30</td>\n",
       "      <td>Uruguay</td>\n",
       "      <td>92</td>\n",
       "      <td>92</td>\n",
       "      <td>FC Barcelona</td>\n",
       "      <td>97M</td>\n",
       "      <td>510K</td>\n",
       "      <td>ST</td>\n",
       "      <td>88.0</td>\n",
       "      <td>87.0</td>\n",
       "      <td>87.0</td>\n",
       "      <td>ST</td>\n",
       "      <td>97000000.0</td>\n",
       "      <td>510000.0</td>\n",
       "    </tr>\n",
       "    <tr>\n",
       "      <th>4</th>\n",
       "      <td>M. Neuer</td>\n",
       "      <td>31</td>\n",
       "      <td>Germany</td>\n",
       "      <td>92</td>\n",
       "      <td>92</td>\n",
       "      <td>FC Bayern Munich</td>\n",
       "      <td>61M</td>\n",
       "      <td>230K</td>\n",
       "      <td>GK</td>\n",
       "      <td>NaN</td>\n",
       "      <td>NaN</td>\n",
       "      <td>NaN</td>\n",
       "      <td>GK</td>\n",
       "      <td>61000000.0</td>\n",
       "      <td>230000.0</td>\n",
       "    </tr>\n",
       "    <tr>\n",
       "      <th>...</th>\n",
       "      <td>...</td>\n",
       "      <td>...</td>\n",
       "      <td>...</td>\n",
       "      <td>...</td>\n",
       "      <td>...</td>\n",
       "      <td>...</td>\n",
       "      <td>...</td>\n",
       "      <td>...</td>\n",
       "      <td>...</td>\n",
       "      <td>...</td>\n",
       "      <td>...</td>\n",
       "      <td>...</td>\n",
       "      <td>...</td>\n",
       "      <td>...</td>\n",
       "      <td>...</td>\n",
       "    </tr>\n",
       "    <tr>\n",
       "      <th>2036</th>\n",
       "      <td>C. PavÃ³n</td>\n",
       "      <td>21</td>\n",
       "      <td>Argentina</td>\n",
       "      <td>75</td>\n",
       "      <td>84</td>\n",
       "      <td>Boca Juniors</td>\n",
       "      <td>10.5M</td>\n",
       "      <td>20K</td>\n",
       "      <td>ST RM RW</td>\n",
       "      <td>71.0</td>\n",
       "      <td>75.0</td>\n",
       "      <td>75.0</td>\n",
       "      <td>ST</td>\n",
       "      <td>10500000.0</td>\n",
       "      <td>20000.0</td>\n",
       "    </tr>\n",
       "    <tr>\n",
       "      <th>2037</th>\n",
       "      <td>C. Villanueva</td>\n",
       "      <td>31</td>\n",
       "      <td>Chile</td>\n",
       "      <td>75</td>\n",
       "      <td>75</td>\n",
       "      <td>Al Ittihad</td>\n",
       "      <td>6M</td>\n",
       "      <td>36K</td>\n",
       "      <td>CM CAM</td>\n",
       "      <td>66.0</td>\n",
       "      <td>72.0</td>\n",
       "      <td>72.0</td>\n",
       "      <td>CM</td>\n",
       "      <td>6000000.0</td>\n",
       "      <td>36000.0</td>\n",
       "    </tr>\n",
       "    <tr>\n",
       "      <th>2038</th>\n",
       "      <td>G. Donsah</td>\n",
       "      <td>21</td>\n",
       "      <td>Ghana</td>\n",
       "      <td>75</td>\n",
       "      <td>83</td>\n",
       "      <td>Bologna</td>\n",
       "      <td>10M</td>\n",
       "      <td>36K</td>\n",
       "      <td>CM</td>\n",
       "      <td>69.0</td>\n",
       "      <td>74.0</td>\n",
       "      <td>74.0</td>\n",
       "      <td>CM</td>\n",
       "      <td>10000000.0</td>\n",
       "      <td>36000.0</td>\n",
       "    </tr>\n",
       "    <tr>\n",
       "      <th>2039</th>\n",
       "      <td>A. Aquilani</td>\n",
       "      <td>32</td>\n",
       "      <td>Italy</td>\n",
       "      <td>75</td>\n",
       "      <td>75</td>\n",
       "      <td>UD Las Palmas</td>\n",
       "      <td>5M</td>\n",
       "      <td>20K</td>\n",
       "      <td>CDM CM</td>\n",
       "      <td>69.0</td>\n",
       "      <td>71.0</td>\n",
       "      <td>71.0</td>\n",
       "      <td>CDM</td>\n",
       "      <td>5000000.0</td>\n",
       "      <td>20000.0</td>\n",
       "    </tr>\n",
       "    <tr>\n",
       "      <th>2040</th>\n",
       "      <td>Manu GarcÃ­a</td>\n",
       "      <td>31</td>\n",
       "      <td>Spain</td>\n",
       "      <td>75</td>\n",
       "      <td>75</td>\n",
       "      <td>Deportivo AlavÃ©s</td>\n",
       "      <td>4.5M</td>\n",
       "      <td>21K</td>\n",
       "      <td>CM CDM</td>\n",
       "      <td>64.0</td>\n",
       "      <td>63.0</td>\n",
       "      <td>63.0</td>\n",
       "      <td>CM</td>\n",
       "      <td>4500000.0</td>\n",
       "      <td>21000.0</td>\n",
       "    </tr>\n",
       "  </tbody>\n",
       "</table>\n",
       "<p>2041 rows × 15 columns</p>\n",
       "</div>"
      ],
      "text/plain": [
       "                   Name  Age Nationality  ...  Position     ValueNum   WageNum\n",
       "0     Cristiano Ronaldo   32    Portugal  ...        ST   95500000.0  565000.0\n",
       "1              L. Messi   30   Argentina  ...        RW  105000000.0  565000.0\n",
       "2                Neymar   25      Brazil  ...        LW  123000000.0  280000.0\n",
       "3            L. SuÃ¡rez   30     Uruguay  ...        ST   97000000.0  510000.0\n",
       "4              M. Neuer   31     Germany  ...        GK   61000000.0  230000.0\n",
       "...                 ...  ...         ...  ...       ...          ...       ...\n",
       "2036          C. PavÃ³n   21   Argentina  ...        ST   10500000.0   20000.0\n",
       "2037      C. Villanueva   31       Chile  ...        CM    6000000.0   36000.0\n",
       "2038          G. Donsah   21       Ghana  ...        CM   10000000.0   36000.0\n",
       "2039        A. Aquilani   32       Italy  ...       CDM    5000000.0   20000.0\n",
       "2040       Manu GarcÃ­a   31       Spain  ...        CM    4500000.0   21000.0\n",
       "\n",
       "[2041 rows x 15 columns]"
      ]
     },
     "execution_count": 30,
     "metadata": {
      "tags": []
     },
     "output_type": "execute_result"
    }
   ],
   "source": [
    "FIFA18[FIFA18['Overall']>=75]"
   ]
  },
  {
   "cell_type": "markdown",
   "metadata": {
    "id": "dDEfu1PXfi2V"
   },
   "source": [
    "Mentioned Countrie - France, England, Spain, Italy and Germany\n",
    "Now form the best team for each of the mentioned countries and compare them"
   ]
  },
  {
   "cell_type": "code",
   "execution_count": 31,
   "metadata": {
    "id": "TDjGTssJTeZ7"
   },
   "outputs": [],
   "source": [
    "def get_best_squad(formation):\n",
    "    FIFA18_copy = FIFA18.copy()\n",
    "    store = []\n",
    "    \n",
    "    # iterate through all positions in the input formation and get players with highest overall respective to the position\n",
    "    for i in formation:\n",
    "        store.append([\n",
    "            i,\n",
    "            FIFA18_copy.loc[[FIFA18_copy[FIFA18_copy['Position'] == i]['Overall'].idxmax()]]['Name'].to_string(index = False),\n",
    "            FIFA18_copy[FIFA18_copy['Position'] == i]['Overall'].max(),\n",
    "            FIFA18_copy.loc[[FIFA18_copy[FIFA18_copy['Position'] == i]['Overall'].idxmax()]]['Age'].to_string(index = False),\n",
    "            FIFA18_copy.loc[[FIFA18_copy[FIFA18_copy['Position'] == i]['Overall'].idxmax()]]['Club'].to_string(index = False),\n",
    "            FIFA18_copy.loc[[FIFA18_copy[FIFA18_copy['Position'] == i]['Overall'].idxmax()]]['Value'].to_string(index = False),\n",
    "            FIFA18_copy.loc[[FIFA18_copy[FIFA18_copy['Position'] == i]['Overall'].idxmax()]]['Wage'].to_string(index = False)\n",
    "        ])\n",
    "                      \n",
    "        FIFA18_copy.drop(FIFA18_copy[FIFA18_copy['Position'] == i]['Overall'].idxmax(), \n",
    "                         inplace = True)\n",
    "    \n",
    "    # return store with only necessary columns\n",
    "    return pd.DataFrame(np.array(store).reshape(11,7), \n",
    "                        columns = ['Position', 'Player', 'Overall', 'Age', 'Club', 'Value', 'Wage']).to_string(index = False)"
   ]
  },
  {
   "cell_type": "code",
   "execution_count": 82,
   "metadata": {
    "id": "gyaaVVKFgMYP"
   },
   "outputs": [],
   "source": [
    "def get_best_squad_n(formation, nationality, measurement = 'Overall'):\n",
    "    FIFA18_copy = FIFA18.copy()\n",
    "    FIFA18_copy = FIFA18_copy[FIFA18_copy['Nationality'] == nationality]\n",
    "    store = []\n",
    "    \n",
    "    for i in formation:\n",
    "        store.append([\n",
    "            FIFA18_copy.loc[[FIFA18_copy[FIFA18_copy['Position'].str.contains(i)][measurement].idxmax()]]['Position'].to_string(index = False),\n",
    "            FIFA18_copy.loc[[FIFA18_copy[FIFA18_copy['Position'].str.contains(i)][measurement].idxmax()]]['Name'].to_string(index = False), \n",
    "            FIFA18_copy[FIFA18_copy['Position'].str.contains(i)][measurement].max(),\n",
    "            FIFA18_copy.loc[[FIFA18_copy[FIFA18_copy['Position'].str.contains(i)][measurement].idxmax()]]['Age'].to_string(index = False),\n",
    "            FIFA18_copy.loc[[FIFA18_copy[FIFA18_copy['Position'].str.contains(i)][measurement].idxmax()]]['Club'].to_string(index = False),\n",
    "            FIFA18_copy.loc[[FIFA18_copy[FIFA18_copy['Position'].str.contains(i)][measurement].idxmax()]]['Value'].to_string(index = False),\n",
    "            FIFA18_copy.loc[[FIFA18_copy[FIFA18_copy['Position'].str.contains(i)][measurement].idxmax()]]['Wage'].to_string(index = False)\n",
    "        ])\n",
    "        \n",
    "        FIFA18_copy.drop(FIFA18_copy[FIFA18_copy['Position'].str.contains(i)][measurement].idxmax(), \n",
    "                         inplace = True)\n",
    "    \n",
    "    return np.mean([x[2] for x in store]).round(2), pd.DataFrame(np.array(store).reshape(11,7), \n",
    "                                                                 columns = ['Position', 'Player', measurement, 'Age', 'Club', 'Value', 'Wage']).to_string(index = False)"
   ]
  },
  {
   "cell_type": "code",
   "execution_count": 83,
   "metadata": {
    "id": "DA-qV6EcgbCA"
   },
   "outputs": [],
   "source": [
    "\n",
    "def get_summary_n(squad_list, squad_name, nationality_list):\n",
    "    summary = []\n",
    "\n",
    "    for i in nationality_list:\n",
    "        count = 0\n",
    "        for j in squad_list:\n",
    "            \n",
    "            # for overall rating\n",
    "            O_temp_rating, _  = get_best_squad_n(formation = j, nationality = i, measurement = 'Overall')\n",
    "            \n",
    "            # for potential rating & corresponding value\n",
    "            P_temp_rating, _ = get_best_squad_n(formation = j, nationality = i, measurement = 'Potential')\n",
    "            \n",
    "            summary.append([i, squad_name[count], O_temp_rating.round(2), P_temp_rating.round(2)])    \n",
    "            count += 1\n",
    "    \n",
    "    return summary"
   ]
  },
  {
   "cell_type": "code",
   "execution_count": 99,
   "metadata": {
    "id": "d2hr4GqCgeGL"
   },
   "outputs": [],
   "source": [
    "squad_433_strict = ['GK', 'RB|RWB', 'CB', 'CB', 'LB|LWB', 'RM|CM',  'CDM|CM|CAM', 'LM|CM', 'RW|ST',  'ST|CF', 'LW|ST']"
   ]
  },
  {
   "cell_type": "code",
   "execution_count": 100,
   "metadata": {
    "id": "5mg7BG8pgxc0"
   },
   "outputs": [],
   "source": [
    "squad_list = [squad_433_strict]\n",
    "squad_name = ['4-3-3']"
   ]
  },
  {
   "cell_type": "markdown",
   "metadata": {
    "id": "zpq7ZynkhAwB"
   },
   "source": [
    "For France"
   ]
  },
  {
   "cell_type": "code",
   "execution_count": 101,
   "metadata": {
    "colab": {
     "base_uri": "https://localhost:8080/"
    },
    "id": "GdZtlDCyg8fD",
    "outputId": "7b730ac6-9e35-4047-a2eb-ae3a82cff67b"
   },
   "outputs": [
    {
     "name": "stdout",
     "output_type": "stream",
     "text": [
      "             Squad  Overall  Potential\n",
      "Nationality                           \n",
      "France       4-3-3    84.91      90.18\n"
     ]
    }
   ],
   "source": [
    "France = pd.DataFrame(np.array(get_summary_n(squad_list, squad_name, ['France'])).reshape(-1,4), columns = ['Nationality', 'Squad', 'Overall', 'Potential'])\n",
    "France.set_index('Nationality', inplace = True)\n",
    "France[['Overall', 'Potential']] = France[['Overall', 'Potential']].astype(float)\n",
    "\n",
    "print (France)"
   ]
  },
  {
   "cell_type": "code",
   "execution_count": 102,
   "metadata": {
    "colab": {
     "base_uri": "https://localhost:8080/"
    },
    "id": "ogxvmWADhD_H",
    "outputId": "d4a717fc-d0dc-48a8-ffdd-cd118ca84c84"
   },
   "outputs": [
    {
     "name": "stdout",
     "output_type": "stream",
     "text": [
      "-Overall-\n",
      "Average rating: 84.9\n",
      "Position         Player Overall  Age                      Club   Value   Wage\n",
      "      GK      H. Lloris      88   30         Tottenham Hotspur     38M   165K\n",
      "      RB       K. Zouma      79   22                Stoke City     15M    96K\n",
      "      CB      R. Varane      85   24            Real Madrid CF   46.5M   175K\n",
      "      CB     A. Laporte      84   23   Athletic Club de Bilbao   35.5M    36K\n",
      "      LB     L. Kurzawa      80   24       Paris Saint-Germain   16.5M    69K\n",
      "      CM      N. KantÃ©      87   26                   Chelsea   52.5M   190K\n",
      "     CDM       P. Pogba      87   24         Manchester United   66.5M   195K\n",
      "      CM     B. Matuidi      85   30                  Juventus   28.5M   145K\n",
      "      ST     K. Benzema      86   29            Real Madrid CF   44.5M   295K\n",
      "      ST   A. Lacazette      85   26                   Arsenal   48.5M   180K\n",
      "      LW   A. Griezmann      88   26          AtlÃ©tico Madrid     75M   150K\n"
     ]
    }
   ],
   "source": [
    "rating_433_FR_Overall_, best_list_433_FR_Overall = get_best_squad_n(squad_433_strict, 'France', 'Overall')\n",
    "print('-Overall-')\n",
    "print('Average rating: {:.1f}'.format(rating_433_FR_Overall_))\n",
    "print(best_list_433_FR_Overall)"
   ]
  },
  {
   "cell_type": "markdown",
   "metadata": {
    "id": "Ls1pyF9UnHpV"
   },
   "source": [
    "Germany"
   ]
  },
  {
   "cell_type": "code",
   "execution_count": 103,
   "metadata": {
    "colab": {
     "base_uri": "https://localhost:8080/"
    },
    "id": "Q1v8cnXnh5Vp",
    "outputId": "668b3a48-c38c-4d4d-daca-739f00745193"
   },
   "outputs": [
    {
     "name": "stdout",
     "output_type": "stream",
     "text": [
      "             Squad  Overall  Potential\n",
      "Nationality                           \n",
      "Germany      4-3-3     86.0      88.36\n"
     ]
    }
   ],
   "source": [
    "Germany = pd.DataFrame(np.array(get_summary_n(squad_list, squad_name, ['Germany'])).reshape(-1,4), columns = ['Nationality', 'Squad', 'Overall', 'Potential'])\n",
    "Germany.set_index('Nationality', inplace = True)\n",
    "Germany[['Overall', 'Potential']] = Germany[['Overall', 'Potential']].astype(float)\n",
    "\n",
    "print (Germany)"
   ]
  },
  {
   "cell_type": "code",
   "execution_count": 104,
   "metadata": {
    "colab": {
     "base_uri": "https://localhost:8080/"
    },
    "id": "C2tv6d3SiYg6",
    "outputId": "67efdf78-e63d-43ef-f433-dc872488bdcf"
   },
   "outputs": [
    {
     "name": "stdout",
     "output_type": "stream",
     "text": [
      "-Overall-\n",
      "Average rating: 86.0\n",
      "Position         Player Overall  Age                  Club   Value   Wage\n",
      "      GK       M. Neuer      92   31      FC Bayern Munich     61M   230K\n",
      "      RB    A. RÃ¼diger      82   24               Chelsea   24.5M   105K\n",
      "      CB     J. Boateng      88   28      FC Bayern Munich     48M   215K\n",
      "      CB     M. Hummels      88   28      FC Bayern Munich     48M   215K\n",
      "      LB      J. Hector      80   27           1. FC KÃ¶ln     14M    42K\n",
      "      RM   K. Bellarabi      82   27   Bayer 04 Leverkusen     23M    67K\n",
      "     CDM       T. Kroos      90   27        Real Madrid CF     79M   340K\n",
      "      LM     J. Draxler      84   23   Paris Saint-Germain   39.5M   120K\n",
      "      RW       M. Ã–zil      88   28               Arsenal     60M   265K\n",
      "      ST     T. MÃ¼ller      86   27      FC Bayern Munich   47.5M   190K\n",
      "      LW        M. Reus      86   28     Borussia Dortmund     45M   120K\n"
     ]
    }
   ],
   "source": [
    "rating_433_GER_Overall, best_list_433_GER_Overall = get_best_squad_n(squad_433_strict, 'Germany', 'Overall')\n",
    "print('-Overall-')\n",
    "print('Average rating: {:.1f}'.format(rating_433_GER_Overall))\n",
    "print(best_list_433_GER_Overall)"
   ]
  },
  {
   "cell_type": "markdown",
   "metadata": {
    "id": "Og0AiTs2nQpe"
   },
   "source": [
    "Spain"
   ]
  },
  {
   "cell_type": "code",
   "execution_count": 105,
   "metadata": {
    "colab": {
     "base_uri": "https://localhost:8080/"
    },
    "id": "Tj64wpJelNhL",
    "outputId": "278df768-7d5a-4b83-d1ec-45460f600ccf"
   },
   "outputs": [
    {
     "name": "stdout",
     "output_type": "stream",
     "text": [
      "             Squad  Overall  Potential\n",
      "Nationality                           \n",
      "Spain        4-3-3    86.45      89.36\n"
     ]
    }
   ],
   "source": [
    "Spain = pd.DataFrame(np.array(get_summary_n(squad_list, squad_name, ['Spain'])).reshape(-1,4), columns = ['Nationality', 'Squad', 'Overall', 'Potential'])\n",
    "Spain.set_index('Nationality', inplace = True)\n",
    "Spain[['Overall', 'Potential']] = Spain[['Overall', 'Potential']].astype(float)\n",
    "\n",
    "print (Spain)"
   ]
  },
  {
   "cell_type": "code",
   "execution_count": 106,
   "metadata": {
    "colab": {
     "base_uri": "https://localhost:8080/"
    },
    "id": "_R35TdibnRxG",
    "outputId": "e375139a-cd91-4d14-f86f-9fe3329154c4"
   },
   "outputs": [
    {
     "name": "stdout",
     "output_type": "stream",
     "text": [
      "-Overall-\n",
      "Average rating: 86.5\n",
      "Position            Player Overall  Age                Club   Value   Wage\n",
      "      GK            De Gea      90   26   Manchester United   64.5M   215K\n",
      "      RB          Carvajal      84   25      Real Madrid CF     32M   195K\n",
      "      CB      Sergio Ramos      90   31      Real Madrid CF     52M   310K\n",
      "      CB            PiquÃ©      87   30        FC Barcelona   37.5M   240K\n",
      "      LB        Jordi Alba      85   28        FC Barcelona   30.5M   215K\n",
      "      CM   Sergio Busquets      86   28        FC Barcelona     36M   250K\n",
      "     CDM            Thiago      88   26    FC Bayern Munich   70.5M   225K\n",
      "      LM       David Silva      87   31     Manchester City     44M   220K\n",
      "      ST       Diego Costa      86   28             Chelsea     46M   235K\n",
      "      ST            Morata      84   24             Chelsea     41M   170K\n",
      "      LW     Marco Asensio      84   21      Real Madrid CF     46M   175K\n"
     ]
    }
   ],
   "source": [
    "rating_4231_ESP_Overall, best_list_4231_ESP_Overall = get_best_squad_n(squad_433_strict, 'Spain', 'Overall')\n",
    "print('-Overall-')\n",
    "print('Average rating: {:.1f}'.format(rating_4231_ESP_Overall))\n",
    "print(best_list_4231_ESP_Overall)"
   ]
  },
  {
   "cell_type": "markdown",
   "metadata": {
    "id": "1Mth3YH7nlDC"
   },
   "source": [
    "England"
   ]
  },
  {
   "cell_type": "code",
   "execution_count": 107,
   "metadata": {
    "colab": {
     "base_uri": "https://localhost:8080/"
    },
    "id": "wcZUjjDunUxV",
    "outputId": "c1583499-d53b-4957-805e-2a9538c4a908"
   },
   "outputs": [
    {
     "name": "stdout",
     "output_type": "stream",
     "text": [
      "             Squad  Overall  Potential\n",
      "Nationality                           \n",
      "England      4-3-3    82.73       87.0\n"
     ]
    }
   ],
   "source": [
    "England = pd.DataFrame(np.array(get_summary_n(squad_list, squad_name, ['England'])).reshape(-1,4), columns = ['Nationality', 'Squad', 'Overall', 'Potential'])\n",
    "England.set_index('Nationality', inplace = True)\n",
    "England[['Overall', 'Potential']] = England[['Overall', 'Potential']].astype(float)\n",
    "\n",
    "print (England)"
   ]
  },
  {
   "cell_type": "code",
   "execution_count": 108,
   "metadata": {
    "colab": {
     "base_uri": "https://localhost:8080/"
    },
    "id": "vXx9zUZInmVu",
    "outputId": "8bbd7942-c73c-452a-b24f-b841b252a8f1"
   },
   "outputs": [
    {
     "name": "stdout",
     "output_type": "stream",
     "text": [
      "-Overall-\n",
      "Average rating: 82.7\n",
      "Position         Player Overall  Age                Club   Value   Wage\n",
      "      GK        J. Hart      82   30     West Ham United     14M   110K\n",
      "     RWB      K. Walker      83   27     Manchester City     24M   130K\n",
      "      CB      G. Cahill      84   31             Chelsea     21M   160K\n",
      "      CB       M. Keane      81   24             Everton     21M    91K\n",
      "     LWB        D. Rose      82   26   Tottenham Hotspur     21M    99K\n",
      "      CM     A. Lallana      83   29           Liverpool     25M   135K\n",
      "      CM        E. Dier      82   23   Tottenham Hotspur     25M    85K\n",
      "      LM        D. Alli      84   21   Tottenham Hotspur     43M   115K\n",
      "      ST        H. Kane      86   23   Tottenham Hotspur     59M   165K\n",
      "      ST   D. Sturridge      82   27           Liverpool   23.5M   140K\n",
      "      ST       J. Vardy      81   30      Leicester City     17M    89K\n"
     ]
    }
   ],
   "source": [
    "rating_433_ENG_Overall, best_list_433_ENG_Overall = get_best_squad_n(squad_433_strict, 'England', 'Overall')\n",
    "print('-Overall-')\n",
    "print('Average rating: {:.1f}'.format(rating_433_ENG_Overall))\n",
    "print(best_list_433_ENG_Overall)"
   ]
  },
  {
   "cell_type": "markdown",
   "metadata": {
    "id": "QJUu0O-unzo8"
   },
   "source": [
    "Italy"
   ]
  },
  {
   "cell_type": "code",
   "execution_count": 109,
   "metadata": {
    "colab": {
     "base_uri": "https://localhost:8080/"
    },
    "id": "nge-DJ0Cnp0E",
    "outputId": "cb5c8bdf-b4c8-4cb0-b006-3454666a6ebe"
   },
   "outputs": [
    {
     "name": "stdout",
     "output_type": "stream",
     "text": [
      "             Squad  Overall  Potential\n",
      "Nationality                           \n",
      "Italy        4-3-3     84.0       88.0\n"
     ]
    }
   ],
   "source": [
    "Italy = pd.DataFrame(np.array(get_summary_n(squad_list, squad_name, ['Italy'])).reshape(-1,4), columns = ['Nationality', 'Squad', 'Overall', 'Potential'])\n",
    "Italy.set_index('Nationality', inplace = True)\n",
    "Italy[['Overall', 'Potential']] = Italy[['Overall', 'Potential']].astype(float)\n",
    "\n",
    "print (Italy)"
   ]
  },
  {
   "cell_type": "code",
   "execution_count": 110,
   "metadata": {
    "colab": {
     "base_uri": "https://localhost:8080/"
    },
    "id": "r1Zk4c2ooHa4",
    "outputId": "ad5cfd1b-251d-4b65-d5b2-58e885f5408f"
   },
   "outputs": [
    {
     "name": "stdout",
     "output_type": "stream",
     "text": [
      "-Overall-\n",
      "Average rating: 84.0\n",
      "Position            Player Overall  Age                  Club   Value   Wage\n",
      "      GK         G. Buffon      89   39              Juventus    4.5M   110K\n",
      "      RB        M. Darmian      80   27     Manchester United   13.5M   120K\n",
      "      CB      G. Chiellini      89   32              Juventus     38M   225K\n",
      "      CB        L. Bonucci      88   30                 Milan     44M   210K\n",
      "      LB           Emerson      76   22                  Roma    8.5M    48K\n",
      "      CM       A. Florenzi      82   26                  Roma     22M    73K\n",
      "     CDM       M. Verratti      87   24   Paris Saint-Germain   64.5M   130K\n",
      "      LM   F. Bernardeschi      82   23              Juventus   30.5M   110K\n",
      "      ST        A. Belotti      83   23                Torino     37M    58K\n",
      "      ST       S. Giovinco      83   30            Toronto FC     25M    15K\n",
      "      LW        L. Insigne      85   26                Napoli     45M   115K\n"
     ]
    }
   ],
   "source": [
    "rating_433_Italy_Overall, best_list_433_Italy_Overall = get_best_squad_n(squad_433_strict, 'Italy', 'Overall')\n",
    "print('-Overall-')\n",
    "print('Average rating: {:.1f}'.format(rating_433_Italy_Overall))\n",
    "print(best_list_433_Italy_Overall)"
   ]
  },
  {
   "cell_type": "markdown",
   "metadata": {
    "id": "CBUvjgZHojdM"
   },
   "source": [
    "Final Comparison on the basis of above best team "
   ]
  },
  {
   "cell_type": "code",
   "execution_count": 111,
   "metadata": {
    "colab": {
     "base_uri": "https://localhost:8080/",
     "height": 562
    },
    "id": "h81IklV1oU2X",
    "outputId": "c0ffa7a8-1e53-4249-ec87-f4727013e9e9"
   },
   "outputs": [
    {
     "data": {
      "image/png": "[encoded data removed]",
      "text/plain": [
       "<Figure size 1152x576 with 1 Axes>"
      ]
     },
     "metadata": {
      "tags": []
     },
     "output_type": "display_data"
    }
   ],
   "source": [
    "teams = ('France', 'Germany', 'Spain', 'England', 'Italy')\n",
    "index = np.arange(len(teams))\n",
    "average_overall = [84.6, 86.3, 86.6, 82.7, 84.1]\n",
    "\n",
    "plt.figure(figsize=(16,8))\n",
    "plt.barh(index, average_overall, align='center', alpha=0.5)\n",
    "plt.yticks(index, teams, fontsize=20)\n",
    "plt.ylabel('National Teams', fontsize=25)\n",
    "plt.xlabel('Average Overall', fontsize=25)\n",
    "plt.title('Average Overall Rating of Players', fontsize=30, fontweight='bold', y=1.05,)\n",
    " \n",
    "plt.show()"
   ]
  },
  {
   "cell_type": "markdown",
   "metadata": {
    "id": "rqBDuF7msU1T"
   },
   "source": [
    "On the Basis of above chart we can say that Average Overall Rating of players of team : \n",
    "Spain is highest and followed by Germany and Italy."
   ]
  },
  {
   "cell_type": "code",
   "execution_count": null,
   "metadata": {
    "id": "0vlwmUCHq5bL"
   },
   "outputs": [],
   "source": []
  }
 ],
 "metadata": {
  "colab": {
   "name": "FIFA2018.ipynb",
   "provenance": [],
   "toc_visible": true
  },
  "kernelspec": {
   "display_name": "Python 3",
   "language": "python",
   "name": "python3"
  },
  "language_info": {
   "codemirror_mode": {
    "name": "ipython",
    "version": 3
   },
   "file_extension": ".py",
   "mimetype": "text/x-python",
   "name": "python",
   "nbconvert_exporter": "python",
   "pygments_lexer": "ipython3",
   "version": "3.7.4"
  }
 },
 "nbformat": 4,
 "nbformat_minor": 1
}
